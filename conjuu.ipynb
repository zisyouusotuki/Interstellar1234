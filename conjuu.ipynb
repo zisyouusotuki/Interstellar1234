{
  "nbformat": 4,
  "nbformat_minor": 0,
  "metadata": {
    "colab": {
      "provenance": [],
      "authorship_tag": "ABX9TyOZ6ZAVYjcc+keFkjC1eUy7",
      "include_colab_link": true
    },
    "kernelspec": {
      "name": "python3",
      "display_name": "Python 3"
    },
    "language_info": {
      "name": "python"
    }
  },
  "cells": [
    {
      "cell_type": "markdown",
      "metadata": {
        "id": "view-in-github",
        "colab_type": "text"
      },
      "source": [
        "<a href=\"https://colab.research.google.com/github/zisyouusotuki/Interstellar1234/blob/main/conjuu.ipynb\" target=\"_parent\"><img src=\"https://colab.research.google.com/assets/colab-badge.svg\" alt=\"Open In Colab\"/></a>"
      ]
    },
    {
      "cell_type": "code",
      "source": [
        "import random"
      ],
      "metadata": {
        "id": "skpM2SQ7XStp"
      },
      "execution_count": null,
      "outputs": []
    },
    {
      "cell_type": "code",
      "execution_count": null,
      "metadata": {
        "id": "ySPOE5aANMrp"
      },
      "outputs": [],
      "source": [
        "beforeconjuu =  []\n",
        "#原型を順にリストに並べる\n",
        "\n",
        "\n"
      ]
    },
    {
      "cell_type": "code",
      "source": [
        "afterconjuu=[]"
      ],
      "metadata": {
        "id": "TXMITnXwUD9_"
      },
      "execution_count": null,
      "outputs": []
    },
    {
      "cell_type": "code",
      "source": [
        "beforeconjuu.append(\"aimer\")"
      ],
      "metadata": {
        "id": "baukvUTololH"
      },
      "execution_count": null,
      "outputs": []
    },
    {
      "cell_type": "code",
      "source": [
        "beforeconjuu.append(\"finir\")"
      ],
      "metadata": {
        "id": "JMxhzlrYnf99"
      },
      "execution_count": null,
      "outputs": []
    },
    {
      "cell_type": "code",
      "source": [
        "afterconjuu.append([\"j'aime\",\"tu aimes\",\"il aime\",\"nous aimons\",\"vous aimez\",\"ils aiment\"])"
      ],
      "metadata": {
        "id": "_5b5t0pAnmaV"
      },
      "execution_count": null,
      "outputs": []
    },
    {
      "cell_type": "code",
      "source": [
        "qnum = random.randint(1,len(beforeconjuu))"
      ],
      "metadata": {
        "id": "GVvf7E8mUFJG"
      },
      "execution_count": null,
      "outputs": []
    },
    {
      "cell_type": "code",
      "source": [
        "afterconjuu.append([\"je finis\",\"tu finis\",\"il finit\",\"nous finissons\",\"vous finissez\",\"ils finissent\"])"
      ],
      "metadata": {
        "id": "E-Kcqx2ZoMXG"
      },
      "execution_count": null,
      "outputs": []
    },
    {
      "cell_type": "code",
      "source": [
        "print(qnum)"
      ],
      "metadata": {
        "colab": {
          "base_uri": "https://localhost:8080/"
        },
        "id": "1AFWi8vDXfVk",
        "outputId": "863a6627-2dfc-4669-dc42-0e3ba77201c6"
      },
      "execution_count": null,
      "outputs": [
        {
          "output_type": "stream",
          "name": "stdout",
          "text": [
            "2\n"
          ]
        }
      ]
    },
    {
      "cell_type": "code",
      "source": [
        "print(beforeconjuu[qnum-1])"
      ],
      "metadata": {
        "colab": {
          "base_uri": "https://localhost:8080/"
        },
        "id": "V0IVQ9-EXx9B",
        "outputId": "285a78cb-fb0c-4eba-e421-10552d9944b2"
      },
      "execution_count": null,
      "outputs": [
        {
          "output_type": "stream",
          "name": "stdout",
          "text": [
            "finir\n"
          ]
        }
      ]
    },
    {
      "cell_type": "code",
      "source": [
        "for i in range(1,7):\n",
        "  ans = input()\n",
        "  ans2 = afterconjuu[qnum-1][i-1]\n",
        "  if ans == ans2:\n",
        "    print(\"\\033[32m\" + \"o\" + \"\\033[0m\")\n",
        "  else:\n",
        "    print(\"\\033[31m\" + \"x :\" + ans2 + \"\\033[0m\")\n",
        "\n",
        "print(\"end!\")\n",
        "\n"
      ],
      "metadata": {
        "colab": {
          "base_uri": "https://localhost:8080/"
        },
        "id": "cN_mEGW-YwCq",
        "outputId": "58d4ca94-8247-4447-d981-5bb299ddffa1"
      },
      "execution_count": null,
      "outputs": [
        {
          "output_type": "stream",
          "name": "stdout",
          "text": [
            "je finis\n",
            "\u001b[32mo\u001b[0m\n",
            "tu finit\n",
            "\u001b[31mx :tu finis\u001b[0m\n",
            "il finit\n",
            "\u001b[32mo\u001b[0m\n"
          ]
        }
      ]
    }
  ]
}